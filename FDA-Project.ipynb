{
 "cells": [
  {
   "cell_type": "markdown",
   "metadata": {
    "collapsed": true
   },
   "source": [
    "# Fundamentals of Data Analysis"
   ]
  },
  {
   "cell_type": "markdown",
   "metadata": {},
   "source": [
    "## Investigate & explain box plots and their uses"
   ]
  },
  {
   "cell_type": "markdown",
   "metadata": {},
   "source": [
    "This assignment has been completed in accordance with the tasks set out in the coursework of the Programming for Data Analysis module as part of the Higher Diploma in Data Analytics in Galway-Mayo Institute of Technology."
   ]
  },
  {
   "cell_type": "markdown",
   "metadata": {
    "collapsed": true
   },
   "source": [
    "This project will aim to\n",
    "\n",
    "1. Summarise the history of the box plot and situations in which it is used.\n",
    "2. Demonstrate the use of box plots using data.\n",
    "3. Explain relevant terminology used in the creation and analysis of box plots including quartile, percentile, median, min, max, outlier, whisker, hinge and fence \n",
    "4. Compare box plotting to some alternatives"
   ]
  },
  {
   "cell_type": "markdown",
   "metadata": {},
   "source": [
    "### The history of the box plot"
   ]
  },
  {
   "cell_type": "markdown",
   "metadata": {},
   "source": [
    "The box plot, according to many sources was introcuded in 1970 by John Tukey in his toolkit for exploratory data analysis. It was formally published in 1977 and became widely known and adopted thereafter. While there is some claim to origin of box plots as Dispersion Diagrams by Mary Eleanor Spear in the 1950s, the naming convention and the rules around how to draw box plots are generally accepted as having been the work of Tukey.\n",
    "\n",
    "The purpose of the plot at its simplest is to show us the distribution of data through five numbers. These numbers are calculated by dividing and plotting a dataset into quartiles. A quartile is simple statistical measure calculted by dividing a dataset into quarters. This means separating the datapoints in terms of size into 0-25%, 25-50%, 50-75% and 75-100% of the distribution of the dataset. These 3 separator lines are known as quartiles. These 3 separators are not necessarily equidistant as the values of the datapoints within the distribution will likely not be perfectly normally distributed. \n",
    "\n",
    "By dividing the data into quartiles it is possible to analyse even small datasets with as few as 5 data points as all that's required on a basic level is a upper whisker (100%), upper hinge (75%) - also known as 3rd quartile, median (50%) - second quartile, lower hinge (25%) - first quartile, lower whisker (0%). The Inter-quartile range or IQR is defined as the difference between the 3rd Quartile and the 1st Quartile or (Q3 - Q1). Outliers are treated differently depending on which rules the box plot adheres to.\n",
    "\n",
    "There are some variations in box plotting. At their simplest box plots have one major variation. \n",
    "\n",
    "1. The famous Tukey box plots rely on median, 2 hinges and 2 whiskers with the whiskers calculated as most extreme data points within 1.5 * IQR above/below the 3rd/1st quartiles of the distribution.\n",
    "\n",
    "2. Another method, credited to Spear, similarly relies on median, 2 hinges, and 2 whiskers. However these whiskers are calculated as the Max and Min of the distribution.\n",
    "\n",
    "Outliers are more visible in a Tukey box plot and are characterised as values \"between the fences\" where the inner fence is the whisker within 1.5 * IQR of the 3rd/1st quartile of the distribution, and outer fence is the data within 3 * IQR of the 3rd/1st quartile of the distribution.\n",
    "\n",
    "The box plot has advantages for statistical analysis when a proposed data set is not normally distributed, asymmetric in shape, or contains extreme outliers. The advantage here is quartiles are insensitive to outliers and that vital information about the dataset such as the centre and the spread are preserved in the plot. It also means that we can look at the data as a compact distribution with less detail than a histogram and produce it using less space. \n",
    "\n",
    "Using a box plot means avoiding more traditional statistical properties such as the mean and by extension variance and standard deviation. In doing so it is possible to avoid some basic traps in statistical analysis. A trap that can be avoided is placing too strong a weighting on the mean of a dataset whose mean may in fact be situated far from the bulk of the data due to extreme outliers. Other statistical properties calculated using the mean such as variance and standard deviation are likewise affected in this instance. \n",
    "\n",
    "Though originally developed by hand, the computers of today allow speedy and accurate processing of data and plotting of datasets. As a result the box plot has become a widely adopted plot for analysing data. \n",
    "\n",
    "This has also led to advancements in the plot such as:\n",
    "\n",
    "1. The variable width box plot - where the width will vary depending on the size of the dataset. \n",
    "2. The notched box plot - where the box is notched to signify a confidence interval.\n",
    "\n"
   ]
  },
  {
   "cell_type": "code",
   "execution_count": null,
   "metadata": {
    "collapsed": true
   },
   "outputs": [],
   "source": []
  }
 ],
 "metadata": {
  "kernelspec": {
   "display_name": "Python 3",
   "language": "python",
   "name": "python3"
  },
  "language_info": {
   "codemirror_mode": {
    "name": "ipython",
    "version": 3
   },
   "file_extension": ".py",
   "mimetype": "text/x-python",
   "name": "python",
   "nbconvert_exporter": "python",
   "pygments_lexer": "ipython3",
   "version": "3.6.3"
  }
 },
 "nbformat": 4,
 "nbformat_minor": 2
}
